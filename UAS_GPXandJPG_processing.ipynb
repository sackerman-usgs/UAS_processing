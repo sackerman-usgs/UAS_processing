{
 "cells": [
  {
   "cell_type": "markdown",
   "metadata": {},
   "source": [
    "# UAS_processing\n",
    "Creators: Seth Ackerman (@sackerman-usgs), Emily Sturdivant (@esturdivant-usgs)\n",
    "\n",
    "Jupyter notebook to process image and GPX files.\n",
    "\n",
    "## Pre-reqs:\n",
    "\n",
    "1. Convert the tlog file to gpx. We use Mission Planner with the computer time zone set to UTC.\n",
    "\n",
    "## Detailed workflow:\n",
    "\n",
    "1. **Read the GPX file.** View a dataframe from the GPX file.\n",
    "2. **Parse the time** field in the GPX dataframe. Add fields datetime_utc and epoch_utc.\n",
    "3. Export the dataframe as a table in CSV format and map the flight path from the GPX navigation data.\n",
    "4. Plot the flight path on an aerial photo basemap.\n",
    "5. Initialize a dataframe for the images. Include the original filename and the time in UTC, Epoch, and ISO formats.\n",
    "6. Export a CSV of the dataframe. Plot the image times and the GPX elevations by time to check that they match.\n",
    "8. **Geotag the photos** from the GPX file using the Geosync tool in ExifTool.\n",
    "7. **Rename the photos** using the survey number, the flight and camera ID, the time in ISO format, and the original filename.\n",
    "9. **Update EXIF tags** to standard values.\n",
    "\n",
    "## Requirements\n",
    "Python 3 with modules (in addition to defaults):\n",
    "\n",
    "- lxml\n",
    "- Pillow, a fork of PIL for Image processing\n",
    "- pandas\n",
    "- numpy\n",
    "- matplotlib\n",
    "- ipyleaflet\n",
    "\n",
    "We recommend creating the uas-processing conda environment from the YML file in this repo.\n",
    "\n",
    "```\n",
    "conda env create -f uas-processing.yml\n",
    "```\n",
    "\n",
    "### To use ipyleaflet\n",
    "\n",
    "Try this:\n",
    "```\n",
    "conda install -c conda-forge ipyleaflet\n",
    "```\n",
    "If that doesn't work:\n",
    "\n",
    "```\n",
    "pip install ipyleaflet\n",
    "jupyter nbextension enable --py --sys-prefix ipyleaflet\n",
    "```\n",
    "If that fails on the second line: (If it fails on the first line you're screwed.)\n",
    "```\n",
    "conda update numpy\n",
    "jupyter nbextension enable --py --sys-prefix ipyleaflet\n",
    "```\n",
    "If that doesn't work, find a solution and fix it for us!\n",
    "\n",
    "#### If using jupyter lab\n",
    "\n",
    "```\n",
    "jupyter labextension install @jupyter-widgets/jupyterlab-manager\n",
    "```\n",
    "and follow directions to install dependencies (nodejs, npm)\n",
    "\n",
    "## Inputs/outputs\n",
    "\n",
    "Variables:\n",
    "\n",
    "- homedir: working directory that contains image folder and tlog folder (with gpx file) and where outputs will be saved.\n",
    "- flight: flight ID that matches the image folder name and the gpx file, usually in format fX\n",
    "- logfile: gpx file path\n",
    "- imagefolder: image folder path\n",
    "\n",
    "Output products:\n",
    "\n",
    "- CSV of pertinent telemetry data converted from GPX\n",
    "- PNG of flight path created from GPX\n",
    "- new folder of images with standardized filenames and image headers populated with contextual information\n",
    "\n",
    "Look for options to customize the geotag portion.\n"
   ]
  },
  {
   "cell_type": "markdown",
   "metadata": {},
   "source": [
    "### Import packages and define the namespace for the GPX schema\n",
    "\n",
    "If you get an error here, you will have to add packages to your Python distribution"
   ]
  },
  {
   "cell_type": "code",
   "execution_count": 94,
   "metadata": {},
   "outputs": [],
   "source": [
    "import os, string, copy, sys, subprocess\n",
    "import shutil\n",
    "import datetime as datetime\n",
    "import pandas as pd\n",
    "import numpy as np\n",
    "import matplotlib.pyplot as plt\n",
    "from lxml import etree\n",
    "from PIL import Image, ExifTags\n",
    "import ipyleaflet as ipyl\n",
    "\n",
    "# set pandas output to limit to N records\n",
    "pd.set_option('max_rows', 8)\n",
    "\n",
    "%matplotlib inline"
   ]
  },
  {
   "cell_type": "markdown",
   "metadata": {},
   "source": [
    "## Input Variables "
   ]
  },
  {
   "cell_type": "code",
   "execution_count": 98,
   "metadata": {},
   "outputs": [],
   "source": [
    "# Set local filepaths:\n",
    "homedir = r'/Data/AIM_2019_PlumIsland/RAW' # '/Data/2018_PlumIsland/2018_015_FA_PlumIs_Feb/test_script/ricoh'\n",
    "logfile = r'/Data/AIM_2019_PlumIsland/RAW/telemetry/GPX_for_geotagging/f5.gpx'\n",
    "imagefolder = r'/Data/AIM_2019_PlumIsland/RAW/photos/ricoh_JPG/ricoh_f5'\n",
    "\n",
    "# Mission info - would be nice for logfile and image folder names to correspond to naming convention, as below\n",
    "fan = '2019-009-FA' # input('Field activity number (e.g. \"2017-010-FA\"): ')\n",
    "flight_id = 'f05' \n",
    "cam_id = 'r01' \n",
    "location = 'Plum Island'\n",
    "state = 'Massachusetts'\n",
    "\n",
    "# Geotag value: \n",
    "# - If images and GPX file were created in UTC, use -0:0:0. If images are local time use +4:0:0 for EST or +5:0:0 for EDT\n",
    "geosync = '+4:0:0'"
   ]
  },
  {
   "cell_type": "markdown",
   "metadata": {},
   "source": [
    "### Defaults that you shouldn't need to change if you are publishing as the WHSC AIM Group"
   ]
  },
  {
   "cell_type": "code",
   "execution_count": 99,
   "metadata": {},
   "outputs": [],
   "source": [
    "# Automated file/folder names\n",
    "navcsvoutfile = os.path.splitext(logfile)[0]+'_gpx.csv'\n",
    "imgoutdir = imagefolder+'_new'\n",
    "\n",
    "# WHSC EXIF population\n",
    "credit = \"U.S. Geological Survey\"\n",
    "comment = \"\"\"Low-altitude aerial photograph of {0}, {1} from \n",
    "survey {2} (https://cmgds.marine.usgs.gov/fan_info.php?fa={2}).\"\"\".format(location, state, fan)\n",
    "keywords = \"{}, {}, {}, UAS, nadir, USGS\".format(location, state, fan)\n",
    "artist = \"WHCMSC AIM Group\"\n",
    "contact = \"WHSC_data_contact@usgs.gov\""
   ]
  },
  {
   "cell_type": "markdown",
   "metadata": {},
   "source": [
    "### Verify the user input data looks right before continuing"
   ]
  },
  {
   "cell_type": "code",
   "execution_count": 100,
   "metadata": {},
   "outputs": [
    {
     "name": "stdout",
     "output_type": "stream",
     "text": [
      "Your input files and folders are all present. Well done! Carry on.\n",
      "\n",
      "Input data: \n",
      "FA = 2019-009-FA    \n",
      "flight = f05    \n",
      "sensor = r01\n",
      "Does the input data above look right?\n"
     ]
    }
   ],
   "source": [
    "if not os.path.isdir(homedir):\n",
    "    print(\"We don't see the specified directory (homedir variable): {}\".format(homedir))\n",
    "    sys.exit()\n",
    "elif not os.path.isfile(logfile):\n",
    "    print(\"We don't see the specified file (logfile variable): {}\".format(logfile))\n",
    "    sys.exit()\n",
    "elif not os.path.isdir(imagefolder):\n",
    "    print(\"We don't see the specified directory (imagefolder variable): {}\".format(imagefolder))\n",
    "    sys.exit()\n",
    "else:\n",
    "    print(\"Your input files and folders are all present. Well done! Carry on.\")\n",
    "\n",
    "input_check = \"\\nFA = {}    \\nflight = {}    \\nsensor = {}\".format(fan, flight_id, cam_id)\n",
    "print (\"\\nInput data: \"+ input_check)\n",
    "\n",
    "print('Does the input data above look right?')"
   ]
  },
  {
   "cell_type": "markdown",
   "metadata": {},
   "source": [
    "## Parse GPX file and extract components into dataframe"
   ]
  },
  {
   "cell_type": "code",
   "execution_count": 101,
   "metadata": {},
   "outputs": [
    {
     "name": "stdout",
     "output_type": "stream",
     "text": [
      "Number of records in GPX file:  4458\n",
      "Number of unique time stamps in GPX file: 541\n",
      "\n"
     ]
    },
    {
     "data": {
      "text/html": [
       "<div>\n",
       "<style scoped>\n",
       "    .dataframe tbody tr th:only-of-type {\n",
       "        vertical-align: middle;\n",
       "    }\n",
       "\n",
       "    .dataframe tbody tr th {\n",
       "        vertical-align: top;\n",
       "    }\n",
       "\n",
       "    .dataframe thead th {\n",
       "        text-align: right;\n",
       "    }\n",
       "</style>\n",
       "<table border=\"1\" class=\"dataframe\">\n",
       "  <thead>\n",
       "    <tr style=\"text-align: right;\">\n",
       "      <th></th>\n",
       "      <th>lat</th>\n",
       "      <th>lon</th>\n",
       "      <th>time</th>\n",
       "      <th>ele</th>\n",
       "      <th>ele2</th>\n",
       "      <th>course</th>\n",
       "      <th>roll</th>\n",
       "      <th>pitch</th>\n",
       "      <th>mode</th>\n",
       "    </tr>\n",
       "  </thead>\n",
       "  <tbody>\n",
       "    <tr>\n",
       "      <th>0</th>\n",
       "      <td>42.772569</td>\n",
       "      <td>-70.805918</td>\n",
       "      <td>2019-03-28T17:53:06+00:00</td>\n",
       "      <td>7.75</td>\n",
       "      <td>1.95</td>\n",
       "      <td>291.2330</td>\n",
       "      <td>0.453538</td>\n",
       "      <td>0.918699</td>\n",
       "      <td>Loiter</td>\n",
       "    </tr>\n",
       "    <tr>\n",
       "      <th>1</th>\n",
       "      <td>42.772569</td>\n",
       "      <td>-70.805918</td>\n",
       "      <td>2019-03-28T17:53:06+00:00</td>\n",
       "      <td>7.75</td>\n",
       "      <td>1.95</td>\n",
       "      <td>291.2330</td>\n",
       "      <td>0.453538</td>\n",
       "      <td>0.918699</td>\n",
       "      <td>Loiter</td>\n",
       "    </tr>\n",
       "    <tr>\n",
       "      <th>2</th>\n",
       "      <td>42.772569</td>\n",
       "      <td>-70.805918</td>\n",
       "      <td>2019-03-28T17:53:06+00:00</td>\n",
       "      <td>7.74</td>\n",
       "      <td>1.94</td>\n",
       "      <td>291.2339</td>\n",
       "      <td>0.453084</td>\n",
       "      <td>0.924864</td>\n",
       "      <td>Loiter</td>\n",
       "    </tr>\n",
       "    <tr>\n",
       "      <th>3</th>\n",
       "      <td>42.772569</td>\n",
       "      <td>-70.805918</td>\n",
       "      <td>2019-03-28T17:53:06+00:00</td>\n",
       "      <td>7.73</td>\n",
       "      <td>1.93</td>\n",
       "      <td>291.2347</td>\n",
       "      <td>0.452994</td>\n",
       "      <td>0.934095</td>\n",
       "      <td>Loiter</td>\n",
       "    </tr>\n",
       "    <tr>\n",
       "      <th>...</th>\n",
       "      <td>...</td>\n",
       "      <td>...</td>\n",
       "      <td>...</td>\n",
       "      <td>...</td>\n",
       "      <td>...</td>\n",
       "      <td>...</td>\n",
       "      <td>...</td>\n",
       "      <td>...</td>\n",
       "      <td>...</td>\n",
       "    </tr>\n",
       "    <tr>\n",
       "      <th>4454</th>\n",
       "      <td>42.776810</td>\n",
       "      <td>-70.806743</td>\n",
       "      <td>2019-03-28T18:02:13+00:00</td>\n",
       "      <td>110.44</td>\n",
       "      <td>102.08</td>\n",
       "      <td>267.3078</td>\n",
       "      <td>-177.513700</td>\n",
       "      <td>-3.095195</td>\n",
       "      <td>Loiter</td>\n",
       "    </tr>\n",
       "    <tr>\n",
       "      <th>4455</th>\n",
       "      <td>42.776832</td>\n",
       "      <td>-70.806748</td>\n",
       "      <td>2019-03-28T18:02:13+00:00</td>\n",
       "      <td>110.44</td>\n",
       "      <td>102.08</td>\n",
       "      <td>263.5576</td>\n",
       "      <td>177.201800</td>\n",
       "      <td>2.547379</td>\n",
       "      <td>Loiter</td>\n",
       "    </tr>\n",
       "    <tr>\n",
       "      <th>4456</th>\n",
       "      <td>42.776852</td>\n",
       "      <td>-70.806752</td>\n",
       "      <td>2019-03-28T18:02:13+00:00</td>\n",
       "      <td>110.44</td>\n",
       "      <td>102.08</td>\n",
       "      <td>258.7424</td>\n",
       "      <td>172.340500</td>\n",
       "      <td>0.186864</td>\n",
       "      <td>Loiter</td>\n",
       "    </tr>\n",
       "    <tr>\n",
       "      <th>4457</th>\n",
       "      <td>42.776872</td>\n",
       "      <td>-70.806756</td>\n",
       "      <td>2019-03-28T18:02:13+00:00</td>\n",
       "      <td>110.44</td>\n",
       "      <td>102.08</td>\n",
       "      <td>254.4558</td>\n",
       "      <td>165.378100</td>\n",
       "      <td>-11.380730</td>\n",
       "      <td>Loiter</td>\n",
       "    </tr>\n",
       "  </tbody>\n",
       "</table>\n",
       "<p>4458 rows × 9 columns</p>\n",
       "</div>"
      ],
      "text/plain": [
       "            lat        lon                       time     ele    ele2  \\\n",
       "0     42.772569 -70.805918  2019-03-28T17:53:06+00:00    7.75    1.95   \n",
       "1     42.772569 -70.805918  2019-03-28T17:53:06+00:00    7.75    1.95   \n",
       "2     42.772569 -70.805918  2019-03-28T17:53:06+00:00    7.74    1.94   \n",
       "3     42.772569 -70.805918  2019-03-28T17:53:06+00:00    7.73    1.93   \n",
       "...         ...        ...                        ...     ...     ...   \n",
       "4454  42.776810 -70.806743  2019-03-28T18:02:13+00:00  110.44  102.08   \n",
       "4455  42.776832 -70.806748  2019-03-28T18:02:13+00:00  110.44  102.08   \n",
       "4456  42.776852 -70.806752  2019-03-28T18:02:13+00:00  110.44  102.08   \n",
       "4457  42.776872 -70.806756  2019-03-28T18:02:13+00:00  110.44  102.08   \n",
       "\n",
       "        course        roll      pitch    mode  \n",
       "0     291.2330    0.453538   0.918699  Loiter  \n",
       "1     291.2330    0.453538   0.918699  Loiter  \n",
       "2     291.2339    0.453084   0.924864  Loiter  \n",
       "3     291.2347    0.452994   0.934095  Loiter  \n",
       "...        ...         ...        ...     ...  \n",
       "4454  267.3078 -177.513700  -3.095195  Loiter  \n",
       "4455  263.5576  177.201800   2.547379  Loiter  \n",
       "4456  258.7424  172.340500   0.186864  Loiter  \n",
       "4457  254.4558  165.378100 -11.380730  Loiter  \n",
       "\n",
       "[4458 rows x 9 columns]"
      ]
     },
     "execution_count": 101,
     "metadata": {},
     "output_type": "execute_result"
    }
   ],
   "source": [
    "def gpx_tag_to_pdseries(tree, namespace, tag):\n",
    "    \"\"\"\n",
    "    # Extract tag value from GPX file as pandas series\n",
    "    First, get the element list.\n",
    "    \"\"\"\n",
    "    elist = tree.xpath('./def:trk//def:trkpt//def:'+tag, namespaces=namespace)\n",
    "    ser = pd.Series([e.text for e in elist], name=tag)\n",
    "    return(ser)\n",
    "\n",
    "# Parse GPX\n",
    "tree = etree.parse(logfile)\n",
    "\n",
    "# Extract latitude and longitude to initialize GPX dataframe\n",
    "namespace = {'def': 'http://www.topografix.com/GPX/1/1'}\n",
    "elist = tree.xpath('./def:trk//def:trkpt',namespaces=namespace)\n",
    "gpxdf = pd.DataFrame([e.values() for e in elist], columns=['lat', 'lon']).apply(pd.to_numeric)\n",
    "\n",
    "# Extract each tag (including time) and add to dataframe\n",
    "taglist = ['time', 'ele', 'ele2', 'course', 'roll', 'pitch', 'mode']\n",
    "for tag in taglist:\n",
    "    gpxdf = gpxdf.join(pd.to_numeric(gpx_tag_to_pdseries(tree, namespace, tag), errors='ignore'))\n",
    "\n",
    "# Check number of records and number of unique times \n",
    "print (\"Number of records in GPX file: \", len(gpxdf.index))\n",
    "print (\"Number of unique time stamps in GPX file: {}\\n\".format(len(gpxdf.time.unique())))\n",
    "\n",
    "gpxdf.describe()\n",
    "gpxdf"
   ]
  },
  {
   "cell_type": "markdown",
   "metadata": {},
   "source": [
    "### Add datetime field to gpxdf dataframe and export CSV\n",
    "\n",
    "Convert the time field to: \n",
    "\n",
    "- datetime_utc: datetime in UTC\n",
    "- epoch_utc: Unix epoch time, which counts seconds from January 1, 1970"
   ]
  },
  {
   "cell_type": "code",
   "execution_count": 102,
   "metadata": {},
   "outputs": [
    {
     "name": "stdout",
     "output_type": "stream",
     "text": [
      "Exported output CSV file to: /Data/AIM_2019_PlumIsland/RAW/telemetry/GPX_for_geotagging/f5_gpx.csv \n",
      "\n"
     ]
    }
   ],
   "source": [
    "# Convert values in 'time' field to datetime UTC and convert datetime UTC to Epoch UTC\n",
    "tfmt_gpx = '%Y-%m-%dT%H:%M:%S' #e.g. 2017-05-04T14:14:12-04:00\n",
    "gpxdf['datetime_utc'] = pd.to_datetime(gpxdf['time'], format = tfmt_gpx)\n",
    "gpxdf['epoch_utc'] = gpxdf['datetime_utc'].astype(np.int64) // 10**9\n",
    "\n",
    "# Export CSV\n",
    "gpxdf.to_csv(navcsvoutfile, index=False)\n",
    "print (\"Exported output CSV file to:\", navcsvoutfile,\"\\n\")"
   ]
  },
  {
   "cell_type": "markdown",
   "metadata": {},
   "source": [
    "### Plot GPX on basemap"
   ]
  },
  {
   "cell_type": "code",
   "execution_count": 103,
   "metadata": {},
   "outputs": [
    {
     "data": {
      "application/vnd.jupyter.widget-view+json": {
       "model_id": "c2912cfa90114997a62a6f638e1dd5ad",
       "version_major": 2,
       "version_minor": 0
      },
      "text/plain": [
       "Map(basemap={'url': 'http://server.arcgisonline.com/ArcGIS/rest/services/World_Imagery/MapServer/tile/{z}/{y}/…"
      ]
     },
     "metadata": {},
     "output_type": "display_data"
    }
   ],
   "source": [
    "def df_to_linestring(df, lat='lat', lon='lon', z='ele'):\n",
    "    \"\"\"\n",
    "    Turn a dataframe containing point data into a linestring in geojson format\n",
    "    modified from: https://github.com/gboeing/urban-data-science/blob/3faf7e028d48cb03ddb999c5a910213c5384e7dc/17-Leaflet-Web-Mapping/leaflet-simple-demo/pandas-to-geojson.ipynb\n",
    "    \n",
    "    df : the dataframe to convert to geojson\n",
    "    lat : the name of the column in the dataframe that contains latitude data\n",
    "    lon : the name of the column in the dataframe that contains longitude data\n",
    "    \"\"\"\n",
    "    # create a new python dict to contain our geojson data, using geojson format\n",
    "    geojson = {'type':'FeatureCollection', 'features':[]}\n",
    "    \n",
    "    # create a feature template to fill in\n",
    "    feature = {'type':'Feature',\n",
    "               'properties':{},\n",
    "               'geometry':{'type':'LineString',\n",
    "                           'coordinates':[]}}\n",
    "    \n",
    "    # loop through each row in the dataframe and convert each row to geojson format\n",
    "    for _, row in df.iterrows():\n",
    "        # fill in the coordinates\n",
    "        feature['geometry']['coordinates'].append([row[lon],row[lat],row[z]])\n",
    "\n",
    "    # add this feature (aka, converted dataframe row) to the list of features inside our dict\n",
    "    geojson['features'].append(feature)\n",
    "    \n",
    "    return(geojson)\n",
    "\n",
    "#TODO: figure out a way to cache the map layer or load a geotiff so we can do this offline\n",
    "m = ipyl.Map(\n",
    "    center=[np.mean([max(gpxdf.lat), min(gpxdf.lat)]), np.mean([max(gpxdf.lon), min(gpxdf.lon)])], \n",
    "    zoom=16, \n",
    "    layout=dict(width='600px', height='400px'),\n",
    "    basemap=ipyl.basemaps.Esri.WorldImagery)\n",
    "\n",
    "def handle_draw(self, action, geo_json):\n",
    "    print(action)\n",
    "    print(geo_json)\n",
    "    \n",
    "dc = ipyl.DrawControl()\n",
    "dc.on_draw(handle_draw)\n",
    "m.add_control(dc)\n",
    "\n",
    "# Plotting the points (even only the unique times) is unwieldy. Plotting all points crashed my kernel. Plotting the unique ones worked, but there's  no apparent way to customize the point display. \n",
    "flight_path = df_to_linestring(gpxdf)\n",
    "m.add_layer(ipyl.GeoJSON(data=flight_path))\n",
    "m"
   ]
  },
  {
   "cell_type": "markdown",
   "metadata": {},
   "source": [
    "## Work on the photos\n",
    "\n",
    "Quirks from ExifTool that required work-arounds: \n",
    "\n",
    "- ExifTool assumes that both the GPS and the image times are local unless another timezone is specified (unless taken from GPSTimeStamp which is UTC).\n",
    "\n",
    "We normally set our camera to UTC and save the GPX files in UTC (by setting the computer time to UTC before running the Mission Planner conversion). Thus, running -geotag on a computer in local time without the '-geotime<${{DateTimeOriginal}}+00:00' part causes the camera times to be incorreclty adjusted to UTC. Our work-around uses the command to geotag images for which the camera clock was set to UTC (+00:00), using the time from DateTimeOriginal. It would also work to change the geosync value to account for this. \n",
    "\n",
    "This process uses PIL through Pillow, a fork that updates to PIL to Python 3, but an alternative would be to use a one line call to exiftool. \n",
    "\n",
    "### Geotag"
   ]
  },
  {
   "cell_type": "code",
   "execution_count": 104,
   "metadata": {},
   "outputs": [
    {
     "name": "stdout",
     "output_type": "stream",
     "text": [
      "Created folder /Data/AIM_2019_PlumIsland/RAW/photos/ricoh_JPG/ricoh_f5_new with images from /Data/AIM_2019_PlumIsland/RAW/photos/ricoh_JPG/ricoh_f5. It did not already exist.\n",
      "Looks like your photos have been geotagged!\n"
     ]
    }
   ],
   "source": [
    "# Run the ExifTool command to geotag images with a GPX file\n",
    "if not os.path.exists(imgoutdir):\n",
    "    shutil.copytree(imagefolder, imgoutdir)\n",
    "    print(\"Created folder {} with images from {}. It did not already exist.\".format(imgoutdir, imagefolder))\n",
    "    \n",
    "# Geotag images for which the camera clock was set to UTC (+00:00), using the time from DateTimeOriginal: (from ExifTool docs)\n",
    "\n",
    "## Hey Emily - this command didn't work for me but if i remove the stuff around DateTimeOriginal it works\n",
    "#cmd = \"\"\"exiftool -v2 -geotag {} -geosync={} \"-geotime<${{DateTimeOriginal}}+00:00\" {} -overwrite_original\"\"\".format(logfile, \n",
    "#                                                                                                 geosync, imgoutdir) \n",
    "cmd = \"\"\"exiftool -v2 -geotag {} -geosync={} \"-geotime<DateTimeOriginal\" {} -overwrite_original\"\"\".format(logfile, \n",
    "                                                                                                 geosync, imgoutdir) \n",
    "subprocess.check_call(cmd, shell=True) \n",
    "print(\"Looks like your photos have been geotagged!\")\n",
    "#TODO: enable customization "
   ]
  },
  {
   "cell_type": "markdown",
   "metadata": {},
   "source": [
    "### Get image times "
   ]
  },
  {
   "cell_type": "code",
   "execution_count": 105,
   "metadata": {
    "scrolled": true
   },
   "outputs": [
    {
     "name": "stdout",
     "output_type": "stream",
     "text": [
      "Found 212 images in /Data/AIM_2019_PlumIsland/RAW/photos/ricoh_JPG/ricoh_f5_new.\n",
      "First file: P0047825.JPG, time: 2019-03-28 18:02:05\n",
      "Last file: P0047814.JPG, time: 2019-03-28 18:01:43 \n",
      "\n",
      "GPX data: /Data/AIM_2019_PlumIsland/RAW/telemetry/GPX_for_geotagging/f5.gpx from 2019-03-28 17:53:06 to 2019-03-28 18:02:13\n"
     ]
    }
   ],
   "source": [
    "# List all JPEGS in imagefolder\n",
    "flist=[os.path.join(imgoutdir, f) for f in os.listdir(imgoutdir) if f.lower().endswith('.jpg')]\n",
    "print(\"Found {} images in {}.\".format(len(flist), imgoutdir))\n",
    "\n",
    "# Set datetime formats\n",
    "iso_fmt=\"%Y%m%dT%H%M%SZ\"\n",
    "tfmt_exif = '%Y:%m:%d %H:%M:%S' #e.g. 2017:05:04 14:14:12\n",
    "\n",
    "def get_datetime(f):\n",
    "    timestr = list(str(int(x/y)) for x, y in Image.open(f)._getexif()[34853][7])\n",
    "    datestr = Image.open(f)._getexif()[34853][29]\n",
    "    datetimestr = '{} {}'.format(datestr, ':'.join(timestr))\n",
    "    return(datetimestr)\n",
    "dt = [datetime.datetime.strptime(get_datetime(f), tfmt_exif) for f in flist]\n",
    "\n",
    "# Make dataframe from photo exif values\n",
    "imgdf = pd.DataFrame({'orig_name': [os.path.basename(f) for f in flist],\n",
    "                      'time_utc': dt,\n",
    "                      'time_epoch': pd.to_datetime(dt, format = tfmt_exif).astype(np.int64) // 10**9, \n",
    "                      'time_iso': [t.strftime(iso_fmt) for t in dt],\n",
    "                      'new_name': np.nan},\n",
    "                        columns=['new_name', 'time_utc', 'orig_name', 'time_epoch', 'time_iso'])\n",
    "\n",
    "## Hey Emily - for some reason the file list is coming in out of order, so these 1st and last images are meaningless\n",
    "# print first and last image name and times\n",
    "print(\"First file: {}, time: {}\".format(imgdf.orig_name.iloc[0],imgdf.time_utc.iloc[0]))\n",
    "print(\"Last file: {}, time: {}\".format(imgdf.orig_name.iloc[-1],imgdf.time_utc.iloc[-1]),\"\\n\")\n",
    "# print first and last times in .gpx file\n",
    "print(\"GPX data: {} from {} to {}\".format(logfile, gpxdf.datetime_utc.iloc[0],gpxdf.datetime_utc.iloc[-1]))"
   ]
  },
  {
   "cell_type": "markdown",
   "metadata": {},
   "source": [
    "### Plot"
   ]
  },
  {
   "cell_type": "code",
   "execution_count": 106,
   "metadata": {},
   "outputs": [
    {
     "data": {
      "image/png": "[encoded data removed]",
      "text/plain": [
       "<Figure size 960x400 with 2 Axes>"
      ]
     },
     "metadata": {},
     "output_type": "display_data"
    }
   ],
   "source": [
    "#%% Plot times of image vs GPX data\n",
    "fig = plt.figure(figsize=(12, 5), dpi= 80, facecolor='w', edgecolor='k')\n",
    "\n",
    "# Altitudes with photo times\n",
    "ax = plt.subplot(1,2,1)\n",
    "ax.plot(gpxdf.datetime_utc, gpxdf.ele,'.c', label='GPX')\n",
    "ax.plot(imgdf.time_utc, np.tile(gpxdf.ele.max(), imgdf.shape[0]),'.r', label='photo')\n",
    "ax.legend()\n",
    "ax.set_title('Flight altitude with photo times', fontsize=16)\n",
    "\n",
    "# GPX track\n",
    "ax = plt.subplot(1,2,2)\n",
    "ax.plot(gpxdf.lon, gpxdf.lat,'.', c='green', label=\"original gpx points\")\n",
    "ax.plot(gpxdf.lon, gpxdf.lat,'-', c='yellow', label=\"original gpx line\")\n",
    "ax.legend()\n",
    "ax.set_title('GPX track for flight {}'.format(flight_id), fontsize=16)\n",
    "\n",
    "# Display\n",
    "plt.show()\n",
    "\n",
    "# Save the figure as a PNG file\n",
    "fig.savefig(os.path.join(homedir, \"{}_gpxtrack.png\".format(os.path.splitext(logfile)[0])))\n",
    "fig.clear()"
   ]
  },
  {
   "cell_type": "markdown",
   "metadata": {},
   "source": [
    "### Rename files"
   ]
  },
  {
   "cell_type": "code",
   "execution_count": 107,
   "metadata": {
    "collapsed": true
   },
   "outputs": [
    {
     "name": "stdout",
     "output_type": "stream",
     "text": [
      "Photos were renamed and can be found in: /Data/AIM_2019_PlumIsland/RAW/photos/ricoh_JPG/ricoh_f5_new \n",
      "\n",
      "Exported photo CSV file as: /Data/AIM_2019_PlumIsland/RAW/photos/ricoh_JPG/ricoh_f5_imgtmp.csv \n",
      "\n"
     ]
    }
   ],
   "source": [
    "#TODO: don't run if the names have already been changed...\n",
    "rename_photos = True\n",
    "\n",
    "surveyid = fan.replace(\"-\",\"\")\n",
    "for idx, row in imgdf.iterrows():\n",
    "    img = row.orig_name\n",
    "    namestr = \"{}_{}{}_{}_{}\".format(surveyid, flight_id, cam_id, row.time_iso, img)\n",
    "    if rename_photos:\n",
    "        os.rename(os.path.join(imgoutdir, img), os.path.join(imgoutdir, namestr))\n",
    "    imgdf.loc[idx, 'new_name'] = namestr\n",
    "\n",
    "print (\"Photos were renamed and can be found in:\", imgoutdir,\"\\n\")\n",
    "\n",
    "# Export CSV for original photo EXIF times\n",
    "imgcsvoutfile = imagefolder+'_imgtmp.csv'\n",
    "imgdf.to_csv(imgcsvoutfile, index=False)\n",
    "print (\"Exported photo CSV file as:\", imgcsvoutfile,\"\\n\")"
   ]
  },
  {
   "cell_type": "markdown",
   "metadata": {},
   "source": [
    "### Add standard USGS metadata to EXIF headers\n",
    "I needed to hard code the location of exiftools - this might be different depending on ExifTools install. If needed, you can always run it at the command line flight-by-flight\n"
   ]
  },
  {
   "cell_type": "code",
   "execution_count": 108,
   "metadata": {},
   "outputs": [
    {
     "name": "stdout",
     "output_type": "stream",
     "text": [
      "Updated Exif headers in directory: /Data/AIM_2019_PlumIsland/RAW/photos/ricoh_JPG/ricoh_f5_new\n"
     ]
    },
    {
     "data": {
      "text/plain": [
       "True"
      ]
     },
     "execution_count": 108,
     "metadata": {},
     "output_type": "execute_result"
    }
   ],
   "source": [
    "def write_WHSC_exiftags(imgdir, credit, comment, keywords, artist, contact):\n",
    "    # Tags that will be identical for all images in the folder\n",
    "    tagvalues = {}\n",
    "    tagvalues['imgdir'] = imgdir\n",
    "    tagvalues['credit'] = credit\n",
    "    tagvalues['artist'] = artist\n",
    "    tagvalues['contact'] = contact\n",
    "    tagvalues['comment'] = comment\n",
    "    tagvalues['keywords'] = keywords\n",
    "    tagvalues['copyright'] = \"Public Domain. Please credit {credit}\".format(**tagvalues)\n",
    "    # Write to EXIF\n",
    "    cmd = \"\"\"exiftool -Artist=\"{artist} \" -Credit=\"{credit} \" -Contact=\"{contact} \" -comment=\"{comment} \" -sep \", \" -keywords=\"{keywords} \" -Caption=\"{comment} \" -Copyright=\"{copyright} \" -CopyrightNotice=\"{copyright} \" -Caption-Abstract=\"{comment} \" -ImageDescription=\"{comment} \" {imgdir}\"\"\".format(**tagvalues)\n",
    "    subprocess.check_call(cmd, shell=True)\n",
    "    print(\"Updated Exif headers in directory: {}\".format(imgdir))\n",
    "    return(True)\n",
    "\n",
    "# Run ExifTool again to update other USGS specific meta tags\n",
    "write_WHSC_exiftags(imgoutdir, credit, comment, keywords, artist, contact)"
   ]
  },
  {
   "cell_type": "code",
   "execution_count": null,
   "metadata": {},
   "outputs": [],
   "source": []
  }
 ],
 "metadata": {
  "kernelspec": {
   "display_name": "Python 3",
   "language": "python",
   "name": "python3"
  },
  "language_info": {
   "codemirror_mode": {
    "name": "ipython",
    "version": 3
   },
   "file_extension": ".py",
   "mimetype": "text/x-python",
   "name": "python",
   "nbconvert_exporter": "python",
   "pygments_lexer": "ipython3",
   "version": "3.6.6"
  }
 },
 "nbformat": 4,
 "nbformat_minor": 2
}
